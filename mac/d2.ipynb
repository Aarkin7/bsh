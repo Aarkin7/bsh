{
 "cells": [
  {
   "cell_type": "code",
   "execution_count": 1,
   "id": "3cd94dab",
   "metadata": {},
   "outputs": [],
   "source": [
    "import matplotlib.pyplot as plt"
   ]
  },
  {
   "cell_type": "code",
   "execution_count": 2,
   "id": "41fd29a4",
   "metadata": {},
   "outputs": [],
   "source": [
    "def fun(x):\n",
    "    return (x+3)**2\n",
    "def derivative(x):\n",
    "    return 2*(x+3)"
   ]
  },
  {
   "cell_type": "code",
   "execution_count": 3,
   "id": "d1e0ab56",
   "metadata": {},
   "outputs": [],
   "source": [
    "value = []\n",
    "learning_rate = 0.1\n",
    "x = 2\n",
    "n = 100\n",
    "\n",
    "for i in range(n):\n",
    "    value.append(fun(x))\n",
    "    gradient = derivative(x)\n",
    "    x -= gradient*learning_rate"
   ]
  },
  {
   "cell_type": "code",
   "execution_count": 5,
   "id": "a227cb06",
   "metadata": {},
   "outputs": [
    {
     "data": {
      "text/plain": [
       "Text(0, 0.5, 'fun(x)')"
      ]
     },
     "execution_count": 5,
     "metadata": {},
     "output_type": "execute_result"
    },
    {
     "data": {
      "image/png": "[encoded data removed]",
      "text/plain": [
       "<Figure size 432x288 with 1 Axes>"
      ]
     },
     "metadata": {
      "needs_background": "light"
     },
     "output_type": "display_data"
    }
   ],
   "source": [
    "plt.plot(value)\n",
    "plt.xlabel(\"n\")\n",
    "plt.ylabel(\"fun(x)\")"
   ]
  },
  {
   "cell_type": "code",
   "execution_count": null,
   "id": "3a7b3110",
   "metadata": {},
   "outputs": [],
   "source": []
  }
 ],
 "metadata": {
  "kernelspec": {
   "display_name": "Python 3",
   "language": "python",
   "name": "python3"
  },
  "language_info": {
   "codemirror_mode": {
    "name": "ipython",
    "version": 3
   },
   "file_extension": ".py",
   "mimetype": "text/x-python",
   "name": "python",
   "nbconvert_exporter": "python",
   "pygments_lexer": "ipython3",
   "version": "3.8.8"
  }
 },
 "nbformat": 4,
 "nbformat_minor": 5
}
